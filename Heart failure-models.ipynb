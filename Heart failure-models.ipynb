{
 "cells": [
  {
   "cell_type": "code",
   "execution_count": 26,
   "id": "71671af0",
   "metadata": {},
   "outputs": [],
   "source": [
    "#Importing the required libraries\n",
    "import os\n",
    "import pandas as pd\n",
    "import matplotlib.pyplot as plt\n",
    "import numpy as np\n",
    "import imblearn\n",
    "from imblearn.over_sampling import SMOTE\n",
    "from imblearn.pipeline import make_pipeline\n",
    "from sklearn.metrics import accuracy_score\n",
    "from sklearn.neighbors import KNeighborsClassifier\n",
    "from sklearn.ensemble import RandomForestClassifier\n",
    "from sklearn.naive_bayes import GaussianNB\n",
    "from sklearn.model_selection import train_test_split\n",
    "from sklearn import metrics\n",
    "from sklearn.metrics import accuracy_score\n",
    "from sklearn.metrics import precision_score, recall_score, confusion_matrix\n",
    "from sklearn.metrics import f1_score, roc_auc_score, roc_curve"
   ]
  },
  {
   "cell_type": "code",
   "execution_count": 2,
   "id": "9c01881e",
   "metadata": {},
   "outputs": [
    {
     "data": {
      "text/html": [
       "<div>\n",
       "<style scoped>\n",
       "    .dataframe tbody tr th:only-of-type {\n",
       "        vertical-align: middle;\n",
       "    }\n",
       "\n",
       "    .dataframe tbody tr th {\n",
       "        vertical-align: top;\n",
       "    }\n",
       "\n",
       "    .dataframe thead th {\n",
       "        text-align: right;\n",
       "    }\n",
       "</style>\n",
       "<table border=\"1\" class=\"dataframe\">\n",
       "  <thead>\n",
       "    <tr style=\"text-align: right;\">\n",
       "      <th></th>\n",
       "      <th>age</th>\n",
       "      <th>anaemia</th>\n",
       "      <th>creatinine_phosphokinase</th>\n",
       "      <th>diabetes</th>\n",
       "      <th>ejection_fraction</th>\n",
       "      <th>high_blood_pressure</th>\n",
       "      <th>platelets</th>\n",
       "      <th>serum_creatinine</th>\n",
       "      <th>serum_sodium</th>\n",
       "      <th>sex</th>\n",
       "      <th>smoking</th>\n",
       "      <th>time</th>\n",
       "      <th>DEATH_EVENT</th>\n",
       "    </tr>\n",
       "  </thead>\n",
       "  <tbody>\n",
       "    <tr>\n",
       "      <th>0</th>\n",
       "      <td>75.0</td>\n",
       "      <td>0</td>\n",
       "      <td>582</td>\n",
       "      <td>0</td>\n",
       "      <td>20</td>\n",
       "      <td>1</td>\n",
       "      <td>265000.00</td>\n",
       "      <td>1.9</td>\n",
       "      <td>130</td>\n",
       "      <td>1</td>\n",
       "      <td>0</td>\n",
       "      <td>4</td>\n",
       "      <td>1</td>\n",
       "    </tr>\n",
       "    <tr>\n",
       "      <th>1</th>\n",
       "      <td>55.0</td>\n",
       "      <td>0</td>\n",
       "      <td>7861</td>\n",
       "      <td>0</td>\n",
       "      <td>38</td>\n",
       "      <td>0</td>\n",
       "      <td>263358.03</td>\n",
       "      <td>1.1</td>\n",
       "      <td>136</td>\n",
       "      <td>1</td>\n",
       "      <td>0</td>\n",
       "      <td>6</td>\n",
       "      <td>1</td>\n",
       "    </tr>\n",
       "    <tr>\n",
       "      <th>2</th>\n",
       "      <td>65.0</td>\n",
       "      <td>0</td>\n",
       "      <td>146</td>\n",
       "      <td>0</td>\n",
       "      <td>20</td>\n",
       "      <td>0</td>\n",
       "      <td>162000.00</td>\n",
       "      <td>1.3</td>\n",
       "      <td>129</td>\n",
       "      <td>1</td>\n",
       "      <td>1</td>\n",
       "      <td>7</td>\n",
       "      <td>1</td>\n",
       "    </tr>\n",
       "    <tr>\n",
       "      <th>3</th>\n",
       "      <td>50.0</td>\n",
       "      <td>1</td>\n",
       "      <td>111</td>\n",
       "      <td>0</td>\n",
       "      <td>20</td>\n",
       "      <td>0</td>\n",
       "      <td>210000.00</td>\n",
       "      <td>1.9</td>\n",
       "      <td>137</td>\n",
       "      <td>1</td>\n",
       "      <td>0</td>\n",
       "      <td>7</td>\n",
       "      <td>1</td>\n",
       "    </tr>\n",
       "    <tr>\n",
       "      <th>4</th>\n",
       "      <td>65.0</td>\n",
       "      <td>1</td>\n",
       "      <td>160</td>\n",
       "      <td>1</td>\n",
       "      <td>20</td>\n",
       "      <td>0</td>\n",
       "      <td>327000.00</td>\n",
       "      <td>2.7</td>\n",
       "      <td>116</td>\n",
       "      <td>0</td>\n",
       "      <td>0</td>\n",
       "      <td>8</td>\n",
       "      <td>1</td>\n",
       "    </tr>\n",
       "  </tbody>\n",
       "</table>\n",
       "</div>"
      ],
      "text/plain": [
       "    age  anaemia  creatinine_phosphokinase  diabetes  ejection_fraction  \\\n",
       "0  75.0        0                       582         0                 20   \n",
       "1  55.0        0                      7861         0                 38   \n",
       "2  65.0        0                       146         0                 20   \n",
       "3  50.0        1                       111         0                 20   \n",
       "4  65.0        1                       160         1                 20   \n",
       "\n",
       "   high_blood_pressure  platelets  serum_creatinine  serum_sodium  sex  \\\n",
       "0                    1  265000.00               1.9           130    1   \n",
       "1                    0  263358.03               1.1           136    1   \n",
       "2                    0  162000.00               1.3           129    1   \n",
       "3                    0  210000.00               1.9           137    1   \n",
       "4                    0  327000.00               2.7           116    0   \n",
       "\n",
       "   smoking  time  DEATH_EVENT  \n",
       "0        0     4            1  \n",
       "1        0     6            1  \n",
       "2        1     7            1  \n",
       "3        0     7            1  \n",
       "4        0     8            1  "
      ]
     },
     "execution_count": 2,
     "metadata": {},
     "output_type": "execute_result"
    }
   ],
   "source": [
    "#Reading in the dataset\n",
    "df = pd.read_csv(\"heart_failure_clinical_records_dataset.csv\")\n",
    "data = df\n",
    "df.head()"
   ]
  },
  {
   "cell_type": "code",
   "execution_count": 3,
   "id": "1692048f",
   "metadata": {},
   "outputs": [
    {
     "name": "stdout",
     "output_type": "stream",
     "text": [
      "0    194\n",
      "1    105\n",
      "Name: high_blood_pressure, dtype: int64\n"
     ]
    }
   ],
   "source": [
    "# Count the occurrences of 0s and 1s in the 'high_blood_pressure' column\n",
    "blood_pressure_counts = df['high_blood_pressure'].value_counts()\n",
    "\n",
    "# Display the counts\n",
    "print(blood_pressure_counts)"
   ]
  },
  {
   "cell_type": "code",
   "execution_count": 4,
   "id": "04ffb8da",
   "metadata": {},
   "outputs": [
    {
     "name": "stdout",
     "output_type": "stream",
     "text": [
      "high_blood_pressure\n",
      "0    57\n",
      "1    39\n",
      "Name: DEATH_EVENT, dtype: int64\n"
     ]
    }
   ],
   "source": [
    "# Group the data by 'high_blood_pressure' and calculate the number of deaths in each group\n",
    "deaths_by_blood_pressure = df.groupby('high_blood_pressure')['DEATH_EVENT'].sum()\n",
    "\n",
    "# Displaying the result\n",
    "print(deaths_by_blood_pressure)\n",
    "# This is interesting as only 39 of the 96 people who died had high blood pressure"
   ]
  },
  {
   "cell_type": "markdown",
   "id": "8db36177",
   "metadata": {},
   "source": [
    "### Splitting the Dataset"
   ]
  },
  {
   "cell_type": "code",
   "execution_count": 5,
   "id": "49757ca6",
   "metadata": {},
   "outputs": [],
   "source": [
    "# Selecting the features (X) and target variable (y)\n",
    "df1 = df.drop('time',axis=1)\n",
    "X = df1.drop('DEATH_EVENT',axis=1)\n",
    "y=df['DEATH_EVENT']"
   ]
  },
  {
   "cell_type": "code",
   "execution_count": 6,
   "id": "b01d8ab0",
   "metadata": {},
   "outputs": [
    {
     "name": "stdout",
     "output_type": "stream",
     "text": [
      "X_train shape: (209, 11)\n",
      "X_test shape: (90, 11)\n",
      "y_train shape: (209,)\n",
      "y_test shape: (90,)\n"
     ]
    }
   ],
   "source": [
    "from sklearn.model_selection import train_test_split\n",
    "\n",
    "#Splitting the dataset\n",
    "X_train,X_test,y_train,y_test = train_test_split(X, y, test_size=0.3, stratify=y, random_state=40)\n",
    "\n",
    "# 30% of the data will be used for testing, and 70% for training.\n",
    "#'random_state' parameter is used to ensure reproducibility of the split.\n",
    "\n",
    "# Displaying the shape of the resulting datasets\n",
    "print(\"X_train shape:\", X_train.shape)\n",
    "print(\"X_test shape:\", X_test.shape)\n",
    "print(\"y_train shape:\", y_train.shape)\n",
    "print(\"y_test shape:\", y_test.shape)"
   ]
  },
  {
   "cell_type": "code",
   "execution_count": 7,
   "id": "2f36f7a0",
   "metadata": {},
   "outputs": [],
   "source": [
    "#Function which gives all the metrics of a model\n",
    "from sklearn.metrics import accuracy_score, precision_score, recall_score, f1_score\n",
    "def generate_model_report(y_actual, y_predicted):\n",
    "    print(\"Accuracy = \" , accuracy_score(y_actual, y_predicted))\n",
    "    print(\"Precision = \" ,precision_score(y_actual, y_predicted))\n",
    "    print(\"Recall = \" ,recall_score(y_actual, y_predicted))\n",
    "    print(\"F1 Score = \" ,f1_score(y_actual, y_predicted))\n"
   ]
  },
  {
   "cell_type": "code",
   "execution_count": 8,
   "id": "ebfbab04",
   "metadata": {},
   "outputs": [],
   "source": [
    "#Function for creating ROC curve\n",
    "def generate_auc_roc_curve(clf, X_test):\n",
    "    y_pred_proba = clf.predict_proba(X_test)[:, 1]\n",
    "    fpr, tpr, thresholds = roc_curve(y_test,  y_pred_proba)\n",
    "    auc = roc_auc_score(y_test, y_pred_proba)\n",
    "    plt.plot(fpr,tpr,label=\"AUC ROC Curve with Area Under the curve =\"+str(auc))\n",
    "    plt.legend(loc=4)\n",
    "    plt.show()\n",
    "    pass"
   ]
  },
  {
   "cell_type": "markdown",
   "id": "32677226",
   "metadata": {},
   "source": [
    "### Scaling"
   ]
  },
  {
   "cell_type": "code",
   "execution_count": 9,
   "id": "78b5cc24",
   "metadata": {},
   "outputs": [],
   "source": [
    "from sklearn.preprocessing import StandardScaler\n",
    "from sklearn.base import BaseEstimator\n",
    "from sklearn.pipeline import FeatureUnion\n",
    "from sklearn.pipeline import Pipeline\n",
    "from sklearn.compose import ColumnTransformer\n",
    "from statsmodels.stats.proportion import proportion_confint\n",
    "\n",
    "\n",
    "num_att = ['age', 'creatinine_phosphokinase', 'ejection_fraction', 'platelets', 'serum_creatinine', 'serum_sodium']\n",
    "bin_att = ['anaemia', 'diabetes', 'high_blood_pressure', 'sex', 'smoking']\n",
    "\n",
    "class DataFrameSelector(BaseEstimator):\n",
    "    def __init__(self, attribute_names):\n",
    "        self.attribute_names = attribute_names\n",
    "    \n",
    "    def fit(self, X, y=None):\n",
    "        return self\n",
    "    \n",
    "    def transform(self, X):\n",
    "        return X[self.attribute_names].values\n",
    "\n",
    "num_pipeline = Pipeline([\n",
    "    ('selector', DataFrameSelector(num_att)),\n",
    "    ('std_scaler', StandardScaler())\n",
    "])\n",
    "\n",
    "bin_pipeline = Pipeline([\n",
    "    ('selector', DataFrameSelector(bin_att))\n",
    "])\n",
    "\n",
    "full_pipeline = FeatureUnion(transformer_list=[\n",
    "    (\"num_pipeline\", num_pipeline),\n",
    "    (\"bin_pipeline\", bin_pipeline)\n",
    "])\n",
    "\n",
    "X_train_ = full_pipeline.fit_transform(X_train)\n",
    "X_test_ = full_pipeline.transform(X_test)"
   ]
  },
  {
   "cell_type": "markdown",
   "id": "b7ad9a4a",
   "metadata": {},
   "source": [
    "### SMOTE on the dataset"
   ]
  },
  {
   "cell_type": "code",
   "execution_count": 10,
   "id": "4700f3ef",
   "metadata": {},
   "outputs": [],
   "source": [
    "sm = SMOTE(random_state=42, sampling_strategy=1.0)\n",
    "x_train_res, y_train_res = sm.fit_resample(X_train_, y_train)\n",
    "x_train_res_nosc, y_train_res_nosc = sm.fit_resample(X_train, y_train)"
   ]
  },
  {
   "cell_type": "markdown",
   "id": "34e2af51",
   "metadata": {},
   "source": [
    "### KNN"
   ]
  },
  {
   "cell_type": "code",
   "execution_count": 11,
   "id": "1775fa56",
   "metadata": {},
   "outputs": [
    {
     "name": "stdout",
     "output_type": "stream",
     "text": [
      "Best number of neighbors: 11\n"
     ]
    }
   ],
   "source": [
    "from sklearn.model_selection import GridSearchCV\n",
    "from sklearn.neighbors import KNeighborsClassifier\n",
    "\n",
    "# Define the parameter grid for tuning\n",
    "param_grid = {\n",
    "    'n_neighbors': range(1, 21),  # Test values from 1 to 20 neighbors\n",
    "}\n",
    "\n",
    "# Create the KNN model\n",
    "knn_model = KNeighborsClassifier()\n",
    "\n",
    "# Create the GridSearchCV object\n",
    "grid_search = GridSearchCV(knn_model, param_grid, cv=5, scoring='accuracy')\n",
    "\n",
    "# Fit the GridSearchCV to the training data (using X_train_)\n",
    "grid_search.fit(X_train_, y_train)\n",
    "\n",
    "best_n_neighbors = grid_search.best_params_['n_neighbors']\n",
    "best_knn_model = grid_search.best_estimator_\n",
    "\n",
    "print(\"Best number of neighbors:\", best_n_neighbors)\n",
    "\n",
    "# Train the best model on the full training dataset (not needed if using GridSearchCV)\n",
    "best_knn_model.fit(X_train_, y_train)\n",
    "\n",
    "# Make predictions on the test set using the best model (using X_test_)\n",
    "y_pred_knn = best_knn_model.predict(X_test_)\n"
   ]
  },
  {
   "cell_type": "code",
   "execution_count": 12,
   "id": "b4d9d04f",
   "metadata": {},
   "outputs": [
    {
     "name": "stdout",
     "output_type": "stream",
     "text": [
      "0.7555555555555555\n"
     ]
    },
    {
     "data": {
      "text/html": [
       "<div>\n",
       "<style scoped>\n",
       "    .dataframe tbody tr th:only-of-type {\n",
       "        vertical-align: middle;\n",
       "    }\n",
       "\n",
       "    .dataframe tbody tr th {\n",
       "        vertical-align: top;\n",
       "    }\n",
       "\n",
       "    .dataframe thead th {\n",
       "        text-align: right;\n",
       "    }\n",
       "</style>\n",
       "<table border=\"1\" class=\"dataframe\">\n",
       "  <thead>\n",
       "    <tr style=\"text-align: right;\">\n",
       "      <th>col_0</th>\n",
       "      <th>0</th>\n",
       "      <th>1</th>\n",
       "    </tr>\n",
       "    <tr>\n",
       "      <th>DEATH_EVENT</th>\n",
       "      <th></th>\n",
       "      <th></th>\n",
       "    </tr>\n",
       "  </thead>\n",
       "  <tbody>\n",
       "    <tr>\n",
       "      <th>0</th>\n",
       "      <td>57</td>\n",
       "      <td>4</td>\n",
       "    </tr>\n",
       "    <tr>\n",
       "      <th>1</th>\n",
       "      <td>18</td>\n",
       "      <td>11</td>\n",
       "    </tr>\n",
       "  </tbody>\n",
       "</table>\n",
       "</div>"
      ],
      "text/plain": [
       "col_0         0   1\n",
       "DEATH_EVENT        \n",
       "0            57   4\n",
       "1            18  11"
      ]
     },
     "execution_count": 12,
     "metadata": {},
     "output_type": "execute_result"
    }
   ],
   "source": [
    "print(accuracy_score(y_test,y_pred_knn))\n",
    "pd.crosstab(y_test,y_pred_knn)"
   ]
  },
  {
   "cell_type": "code",
   "execution_count": 13,
   "id": "3e7e0d48",
   "metadata": {},
   "outputs": [
    {
     "name": "stdout",
     "output_type": "stream",
     "text": [
      "Accuracy =  0.7555555555555555\n",
      "Precision =  0.7333333333333333\n",
      "Recall =  0.3793103448275862\n",
      "F1 Score =  0.5\n"
     ]
    }
   ],
   "source": [
    "generate_model_report(y_test, y_pred_knn)"
   ]
  },
  {
   "cell_type": "markdown",
   "id": "bfedf902",
   "metadata": {},
   "source": [
    "### KNN with SMOTE"
   ]
  },
  {
   "cell_type": "code",
   "execution_count": 14,
   "id": "856b1e24",
   "metadata": {},
   "outputs": [
    {
     "data": {
      "text/plain": [
       "0.7777777777777778"
      ]
     },
     "execution_count": 14,
     "metadata": {},
     "output_type": "execute_result"
    }
   ],
   "source": [
    "best_knn_model.fit(x_train_res, y_train_res)\n",
    "best_knn_model.score(X_test_,y_test)"
   ]
  },
  {
   "cell_type": "code",
   "execution_count": 15,
   "id": "487ee556",
   "metadata": {},
   "outputs": [
    {
     "name": "stdout",
     "output_type": "stream",
     "text": [
      "Accuracy =  0.7777777777777778\n",
      "Precision =  0.6363636363636364\n",
      "Recall =  0.7241379310344828\n",
      "F1 Score =  0.6774193548387097\n"
     ]
    }
   ],
   "source": [
    "Y_Test_Pred_knn = best_knn_model.predict(X_test_)\n",
    "generate_model_report(y_test, Y_Test_Pred_knn)"
   ]
  },
  {
   "cell_type": "code",
   "execution_count": 16,
   "id": "6f6e9087",
   "metadata": {},
   "outputs": [
    {
     "data": {
      "text/html": [
       "<div>\n",
       "<style scoped>\n",
       "    .dataframe tbody tr th:only-of-type {\n",
       "        vertical-align: middle;\n",
       "    }\n",
       "\n",
       "    .dataframe tbody tr th {\n",
       "        vertical-align: top;\n",
       "    }\n",
       "\n",
       "    .dataframe thead th {\n",
       "        text-align: right;\n",
       "    }\n",
       "</style>\n",
       "<table border=\"1\" class=\"dataframe\">\n",
       "  <thead>\n",
       "    <tr style=\"text-align: right;\">\n",
       "      <th>col_0</th>\n",
       "      <th>0</th>\n",
       "      <th>1</th>\n",
       "    </tr>\n",
       "    <tr>\n",
       "      <th>DEATH_EVENT</th>\n",
       "      <th></th>\n",
       "      <th></th>\n",
       "    </tr>\n",
       "  </thead>\n",
       "  <tbody>\n",
       "    <tr>\n",
       "      <th>0</th>\n",
       "      <td>49</td>\n",
       "      <td>12</td>\n",
       "    </tr>\n",
       "    <tr>\n",
       "      <th>1</th>\n",
       "      <td>8</td>\n",
       "      <td>21</td>\n",
       "    </tr>\n",
       "  </tbody>\n",
       "</table>\n",
       "</div>"
      ],
      "text/plain": [
       "col_0         0   1\n",
       "DEATH_EVENT        \n",
       "0            49  12\n",
       "1             8  21"
      ]
     },
     "execution_count": 16,
     "metadata": {},
     "output_type": "execute_result"
    }
   ],
   "source": [
    "pd.crosstab(y_test,Y_Test_Pred_knn)"
   ]
  },
  {
   "cell_type": "markdown",
   "id": "e3e537eb",
   "metadata": {},
   "source": [
    "### Logistic Regression"
   ]
  },
  {
   "cell_type": "code",
   "execution_count": 17,
   "id": "06279cd8",
   "metadata": {},
   "outputs": [
    {
     "name": "stdout",
     "output_type": "stream",
     "text": [
      "Best C value: 1\n",
      "Best penalty type: l1\n",
      "Best maximum iterations: 100\n",
      "Actual      0   1\n",
      "Predicted        \n",
      "0          55  13\n",
      "1           6  16\n"
     ]
    }
   ],
   "source": [
    "from sklearn.linear_model import LogisticRegression\n",
    "from sklearn.model_selection import GridSearchCV\n",
    "import pandas as pd\n",
    "\n",
    "# Define the parameter grid for tuning\n",
    "param_grid = {\n",
    "    'C': [0.001, 0.01, 0.1, 1, 10, 100],       # Regularization strength values to test\n",
    "    'penalty': ['l1', 'l2'],                  # Penalty type ('l1' for L1 regularization, 'l2' for L2 regularization)\n",
    "    'solver': ['liblinear'],                  # Solver for handling penalty ('liblinear' is suitable for small datasets)\n",
    "    'max_iter': [100, 200, 500]               # Maximum number of iterations for convergence\n",
    "}\n",
    "\n",
    "# Create the logistic regression model\n",
    "log_r = LogisticRegression(random_state=42)\n",
    "\n",
    "# Create the GridSearchCV object\n",
    "grid_search = GridSearchCV(log_r, param_grid, cv=5, scoring='accuracy')\n",
    "\n",
    "# Fit the GridSearchCV to the training data\n",
    "grid_search.fit(X_train, y_train)\n",
    "\n",
    "# Get the best hyperparameters and the best model\n",
    "best_C = grid_search.best_params_['C']\n",
    "best_penalty = grid_search.best_params_['penalty']\n",
    "best_max_iter = grid_search.best_params_['max_iter']\n",
    "best_log_r_model = grid_search.best_estimator_\n",
    "\n",
    "print(\"Best C value:\", best_C)\n",
    "print(\"Best penalty type:\", best_penalty)\n",
    "print(\"Best maximum iterations:\", best_max_iter)\n",
    "\n",
    "# Train the best model on the full training dataset (not needed if using GridSearchCV)\n",
    "# best_log_r_model.fit(X_train, y_train)\n",
    "\n",
    "# Make predictions on the test set using the best model\n",
    "y_pred_log_r = best_log_r_model.predict(X_test)\n",
    "\n",
    "# Create a confusion matrix\n",
    "confusion_matrix = pd.crosstab(y_pred_log_r, y_test, rownames=['Predicted'], colnames=['Actual'])\n",
    "print(confusion_matrix)\n"
   ]
  },
  {
   "cell_type": "code",
   "execution_count": 18,
   "id": "5241664a",
   "metadata": {},
   "outputs": [
    {
     "name": "stdout",
     "output_type": "stream",
     "text": [
      "Accuracy =  0.7888888888888889\n",
      "Precision =  0.7272727272727273\n",
      "Recall =  0.5517241379310345\n",
      "F1 Score =  0.6274509803921569\n"
     ]
    }
   ],
   "source": [
    "#Classification Metric of Logistic Regression model\n",
    "generate_model_report(y_test, y_pred_log_r)"
   ]
  },
  {
   "cell_type": "code",
   "execution_count": 19,
   "id": "49620d90",
   "metadata": {},
   "outputs": [
    {
     "data": {
      "image/png": "[encoded data removed]",
      "text/plain": [
       "<Figure size 640x480 with 1 Axes>"
      ]
     },
     "metadata": {},
     "output_type": "display_data"
    }
   ],
   "source": [
    "generate_auc_roc_curve(best_log_r_model, X_test)"
   ]
  },
  {
   "cell_type": "markdown",
   "id": "e918c5c2",
   "metadata": {},
   "source": [
    "### Logistic Regression with SMOTE"
   ]
  },
  {
   "cell_type": "code",
   "execution_count": 20,
   "id": "98948e99",
   "metadata": {},
   "outputs": [],
   "source": [
    "log_r_with_smote = best_log_r_model.fit(x_train_res_nosc, y_train_res_nosc)\n",
    "\n",
    "y_pred_with_smote = log_r_with_smote.predict(X_test)"
   ]
  },
  {
   "cell_type": "code",
   "execution_count": 21,
   "id": "c1df493e",
   "metadata": {},
   "outputs": [
    {
     "name": "stdout",
     "output_type": "stream",
     "text": [
      "Accuracy =  0.7222222222222222\n",
      "Precision =  0.5555555555555556\n",
      "Recall =  0.6896551724137931\n",
      "F1 Score =  0.6153846153846154\n"
     ]
    }
   ],
   "source": [
    "#Classification Metric of Logistic Regression model\n",
    "generate_model_report(y_test, y_pred_with_smote)"
   ]
  },
  {
   "cell_type": "markdown",
   "id": "b35b5425",
   "metadata": {},
   "source": [
    "### Decision Tree"
   ]
  },
  {
   "cell_type": "code",
   "execution_count": 22,
   "id": "1a64952e",
   "metadata": {},
   "outputs": [
    {
     "name": "stdout",
     "output_type": "stream",
     "text": [
      "Decision Tree without SMOTE:\n",
      "Accuracy: 0.7666666666666667\n",
      "Precision: 0.6538461538461539\n",
      "Recall: 0.5862068965517241\n",
      "F1 Score: 0.6181818181818182\n",
      "\n",
      "Decision Tree with SMOTE:\n",
      "Accuracy: 0.7\n",
      "Precision: 0.5238095238095238\n",
      "Recall: 0.7586206896551724\n",
      "F1 Score: 0.6197183098591549\n"
     ]
    }
   ],
   "source": [
    "from sklearn.tree import DecisionTreeClassifier\n",
    "from sklearn.metrics import accuracy_score, precision_score, recall_score, f1_score\n",
    "from imblearn.over_sampling import SMOTE\n",
    "from sklearn.model_selection import GridSearchCV\n",
    "\n",
    "# Step 1: Hyperparameter tuning for Decision Tree without SMOTE\n",
    "param_grid_dt = {\n",
    "    'criterion': ['gini', 'entropy'],\n",
    "    'splitter': ['best', 'random'],\n",
    "    'max_depth': [None, 5, 10, 15, 20, 25],\n",
    "    'min_samples_split': [2, 5, 10, 20],\n",
    "    'min_samples_leaf': [1, 2, 4, 8]\n",
    "}\n",
    "\n",
    "dt_model_no_smote = DecisionTreeClassifier(random_state=42)\n",
    "grid_search_dt_no_smote = GridSearchCV(dt_model_no_smote, param_grid_dt, cv=5, scoring='accuracy')\n",
    "grid_search_dt_no_smote.fit(X_train, y_train)\n",
    "\n",
    "best_dt_model_no_smote = grid_search_dt_no_smote.best_estimator_\n",
    "\n",
    "# Step 2: Hyperparameter tuning for Decision Tree with SMOTE\n",
    "\n",
    "dt_model_with_smote = DecisionTreeClassifier(random_state=42)\n",
    "grid_search_dt_with_smote = GridSearchCV(dt_model_with_smote, param_grid_dt, cv=5, scoring='accuracy')\n",
    "grid_search_dt_with_smote.fit(x_train_res_nosc, y_train_res_nosc)\n",
    "\n",
    "best_dt_model_with_smote = grid_search_dt_with_smote.best_estimator_\n",
    "\n",
    "# Step 3: Evaluate both models on the test set\n",
    "y_pred_no_smote = best_dt_model_no_smote.predict(X_test)\n",
    "y_pred_with_smote = best_dt_model_with_smote.predict(X_test)\n",
    "\n",
    "# Calculate and print performance metrics for the model without SMOTE\n",
    "print(\"Decision Tree without SMOTE:\")\n",
    "print(\"Accuracy:\", accuracy_score(y_test, y_pred_no_smote))\n",
    "print(\"Precision:\", precision_score(y_test, y_pred_no_smote))\n",
    "print(\"Recall:\", recall_score(y_test, y_pred_no_smote))\n",
    "print(\"F1 Score:\", f1_score(y_test, y_pred_no_smote))\n",
    "\n",
    "# Calculate and print performance metrics for the model with SMOTE\n",
    "print(\"\\nDecision Tree with SMOTE:\")\n",
    "print(\"Accuracy:\", accuracy_score(y_test, y_pred_with_smote))\n",
    "print(\"Precision:\", precision_score(y_test, y_pred_with_smote))\n",
    "print(\"Recall:\", recall_score(y_test, y_pred_with_smote))\n",
    "print(\"F1 Score:\", f1_score(y_test, y_pred_with_smote))\n"
   ]
  },
  {
   "cell_type": "markdown",
   "id": "9eb7b7f3",
   "metadata": {},
   "source": [
    "### Random Forest"
   ]
  },
  {
   "cell_type": "code",
   "execution_count": 33,
   "id": "924b056d",
   "metadata": {},
   "outputs": [
    {
     "name": "stdout",
     "output_type": "stream",
     "text": [
      "Random Forest without SMOTE:\n",
      "Accuracy: 0.7444444444444445\n",
      "Precision: 0.6666666666666666\n",
      "Recall: 0.41379310344827586\n",
      "F1 Score: 0.5106382978723404\n",
      "\n",
      "Random Forest with SMOTE and feature selection:\n",
      "Accuracy: 0.7555555555555555\n",
      "Precision: 0.5897435897435898\n",
      "Recall: 0.7931034482758621\n",
      "F1 Score: 0.676470588235294\n"
     ]
    }
   ],
   "source": [
    "from sklearn.feature_selection import SelectFromModel\n",
    "\n",
    "# Step 1: Hyperparameter tuning for Random Forest without SMOTE\n",
    "param_grid_rf = {\n",
    "    'n_estimators': [10, 50, 100, 200],\n",
    "    'criterion': ['gini', 'entropy'],\n",
    "    'max_depth': [2,4,6],\n",
    "    'min_samples_split': [2,5,10],\n",
    "    'min_samples_leaf': [1, 2, 4]\n",
    "}\n",
    "\n",
    "rf_model_no_smote = RandomForestClassifier(random_state=42)\n",
    "grid_search_rf_no_smote = GridSearchCV(rf_model_no_smote, param_grid_rf, cv=5, scoring='accuracy')\n",
    "grid_search_rf_no_smote.fit(X_train, y_train)\n",
    "\n",
    "best_rf_model_no_smote = grid_search_rf_no_smote.best_estimator_\n",
    "\n",
    "# Step 2: Hyperparameter tuning for Random Forest with SMOTE and feature selection\n",
    "rf_model_with_smote = RandomForestClassifier(random_state=42)\n",
    "grid_search_rf_with_smote = GridSearchCV(rf_model_with_smote, param_grid_rf, cv=5, scoring='accuracy')\n",
    "grid_search_rf_with_smote.fit(x_train_res_nosc, y_train_res_nosc)\n",
    "\n",
    "best_rf_model_with_smote = grid_search_rf_with_smote.best_estimator_\n",
    "\n",
    "# Step 3: Feature selection for Random Forest with SMOTE\n",
    "sfm = SelectFromModel(best_rf_model_with_smote, threshold='mean')\n",
    "sfm.fit(x_train_res_nosc, y_train_res_nosc)\n",
    "x_train_selected = sfm.transform(x_train_res_nosc)\n",
    "x_test_selected = sfm.transform(X_test)\n",
    "\n",
    "# Step 4: Train Random Forest with selected features and evaluate on test set\n",
    "best_rf_model_with_smote.fit(x_train_selected, y_train_res_nosc)\n",
    "y_pred_with_smote = best_rf_model_with_smote.predict(x_test_selected)\n",
    "\n",
    "# Calculate and print performance metrics for the model without SMOTE\n",
    "print(\"Random Forest without SMOTE:\")\n",
    "print(\"Accuracy:\", accuracy_score(y_test, best_rf_model_no_smote.predict(X_test)))\n",
    "print(\"Precision:\", precision_score(y_test, best_rf_model_no_smote.predict(X_test)))\n",
    "print(\"Recall:\", recall_score(y_test, best_rf_model_no_smote.predict(X_test)))\n",
    "print(\"F1 Score:\", f1_score(y_test, best_rf_model_no_smote.predict(X_test)))\n",
    "\n",
    "# Calculate and print performance metrics for the model with SMOTE and feature selection\n",
    "print(\"\\nRandom Forest with SMOTE and feature selection:\")\n",
    "print(\"Accuracy:\", accuracy_score(y_test, y_pred_with_smote))\n",
    "print(\"Precision:\", precision_score(y_test, y_pred_with_smote))\n",
    "print(\"Recall:\", recall_score(y_test, y_pred_with_smote))\n",
    "print(\"F1 Score:\", f1_score(y_test, y_pred_with_smote))\n"
   ]
  },
  {
   "cell_type": "code",
   "execution_count": 24,
   "id": "13825c56",
   "metadata": {},
   "outputs": [
    {
     "data": {
      "image/png": "[encoded data removed]",
      "text/plain": [
       "<Figure size 1000x600 with 1 Axes>"
      ]
     },
     "metadata": {},
     "output_type": "display_data"
    }
   ],
   "source": [
    "import matplotlib.pyplot as plt\n",
    "\n",
    "# Get feature importance from the best Random Forest model with SMOTE\n",
    "feature_importance = best_rf_model_with_smote.feature_importances_\n",
    "\n",
    "# Get the corresponding feature names\n",
    "selected_feature_names = X_train.columns[sfm.get_support()]\n",
    "\n",
    "# Create a DataFrame to store the feature importance values with their names\n",
    "feature_importance_df = pd.DataFrame({'Feature': selected_feature_names, 'Importance': feature_importance})\n",
    "\n",
    "# Sort the features by importance in descending order\n",
    "feature_importance_df = feature_importance_df.sort_values(by='Importance', ascending=False)\n",
    "\n",
    "# Plot the feature importance\n",
    "plt.figure(figsize=(10, 6))\n",
    "plt.barh(feature_importance_df['Feature'], feature_importance_df['Importance'])\n",
    "plt.xlabel('Feature Importance')\n",
    "plt.ylabel('Feature')\n",
    "plt.title('Random Forest Feature Importance with SMOTE and Feature Selection')\n",
    "plt.show()\n"
   ]
  },
  {
   "cell_type": "markdown",
   "id": "1304df4c",
   "metadata": {},
   "source": [
    "### Naive Bayes"
   ]
  },
  {
   "cell_type": "code",
   "execution_count": 29,
   "id": "44691c59",
   "metadata": {},
   "outputs": [
    {
     "name": "stdout",
     "output_type": "stream",
     "text": [
      "Naive Bayes without SMOTE:\n",
      "Accuracy: 0.6444444444444445\n",
      "Precision: 0.3333333333333333\n",
      "Recall: 0.10344827586206896\n",
      "F1 Score: 0.15789473684210528\n"
     ]
    }
   ],
   "source": [
    "# Step 2: Create and train the Naive Bayes model\n",
    "nb_model = GaussianNB()\n",
    "nb_model.fit(X_train, y_train)\n",
    "\n",
    "# Step 3: Make predictions on the test set\n",
    "y_predn = nb_model.predict(X_test)\n",
    "\n",
    "# Calculate and print performance metrics for the model with SMOTE\n",
    "print(\"Naive Bayes without SMOTE:\")\n",
    "print(\"Accuracy:\", accuracy_score(y_test, y_predn))\n",
    "print(\"Precision:\", precision_score(y_test, y_predn))\n",
    "print(\"Recall:\", recall_score(y_test, y_predn))\n",
    "print(\"F1 Score:\", f1_score(y_test, y_predn))"
   ]
  },
  {
   "cell_type": "code",
   "execution_count": 28,
   "id": "4ba1c8a2",
   "metadata": {},
   "outputs": [
    {
     "name": "stdout",
     "output_type": "stream",
     "text": [
      "Naive Bayes with SMOTE:\n",
      "Accuracy: 0.6888888888888889\n",
      "Precision: 0.52\n",
      "Recall: 0.4482758620689655\n",
      "F1 Score: 0.48148148148148145\n"
     ]
    }
   ],
   "source": [
    "nb_model.fit(x_train_res_nosc, y_train_res_nosc)\n",
    "\n",
    "# Step 3: Make predictions on the test set\n",
    "y_pred = nb_model.predict(X_test)\n",
    "\n",
    "# Calculate and print performance metrics for the model with SMOTE\n",
    "print(\"Naive Bayes with SMOTE:\")\n",
    "print(\"Accuracy:\", accuracy_score(y_test, y_pred))\n",
    "print(\"Precision:\", precision_score(y_test, y_pred))\n",
    "print(\"Recall:\", recall_score(y_test, y_pred))\n",
    "print(\"F1 Score:\", f1_score(y_test, y_pred))"
   ]
  },
  {
   "cell_type": "code",
   "execution_count": null,
   "id": "0accac42",
   "metadata": {},
   "outputs": [],
   "source": []
  },
  {
   "cell_type": "code",
   "execution_count": null,
   "id": "d196c6e1",
   "metadata": {},
   "outputs": [],
   "source": []
  },
  {
   "cell_type": "code",
   "execution_count": null,
   "id": "1c63e046",
   "metadata": {},
   "outputs": [],
   "source": []
  },
  {
   "cell_type": "code",
   "execution_count": null,
   "id": "5632de64",
   "metadata": {},
   "outputs": [],
   "source": []
  },
  {
   "cell_type": "code",
   "execution_count": null,
   "id": "a35447c8",
   "metadata": {},
   "outputs": [],
   "source": []
  },
  {
   "cell_type": "code",
   "execution_count": null,
   "id": "f2191cd3",
   "metadata": {},
   "outputs": [],
   "source": []
  },
  {
   "cell_type": "code",
   "execution_count": null,
   "id": "8c2da6db",
   "metadata": {},
   "outputs": [],
   "source": []
  }
 ],
 "metadata": {
  "kernelspec": {
   "display_name": "Python 3 (ipykernel)",
   "language": "python",
   "name": "python3"
  },
  "language_info": {
   "codemirror_mode": {
    "name": "ipython",
    "version": 3
   },
   "file_extension": ".py",
   "mimetype": "text/x-python",
   "name": "python",
   "nbconvert_exporter": "python",
   "pygments_lexer": "ipython3",
   "version": "3.10.9"
  }
 },
 "nbformat": 4,
 "nbformat_minor": 5
}
